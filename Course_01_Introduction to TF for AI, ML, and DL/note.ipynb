{
 "cells": [
  {
   "cell_type": "markdown",
   "metadata": {},
   "source": [
    "# Introduction to TensorFlow for Artificial Intelligence, Machine Learning, and Deep Learning\n"
   ]
  },
  {
   "cell_type": "markdown",
   "metadata": {},
   "source": [
    "## About this Course\n",
    "This course is part of the upcoming Machine Learning in Tensorflow Specialization and will teach you best practices for using TensorFlow, a popular open-source framework for machine learning. \n",
    "\n",
    "The Machine Learning course and Deep Learning Specialization from Andrew Ng teach the most important and foundational principles of Machine Learning and Deep Learning. This new deeplearning.ai TensorFlow Specialization teaches you how to use TensorFlow to implement those principles so that you can start building and applying scalable models to real-world problems. To develop a deeper understanding of how neural networks work, we recommend that you take the Deep Learning Specialization."
   ]
  },
  {
   "cell_type": "markdown",
   "metadata": {},
   "source": [
    "## Syllabus\n",
    "* Week 01: A New Programming Paradigm\n",
    "* Week 02: Introduction to Computer Vision\n",
    "* Week 03: Enhancing Vision with Convolutional Neural Networks\n",
    "* Week 04: Using Real-world Images"
   ]
  },
  {
   "cell_type": "markdown",
   "metadata": {},
   "source": [
    "----"
   ]
  },
  {
   "cell_type": "markdown",
   "metadata": {},
   "source": [
    "# A New Programming Paradigm\n",
    "\n",
    "## An Overview\n",
    "* One of the best tools we can use to implement deep learning and machine learning algorithms is TensorFlow.\n",
    "* Programming frameworks like TensorFlow, PyTorchm caffe and many others can help us in learning algorithms, moreover they can save a lot of time.\n",
    "* Deep learning and machine learning skills are becoming ever more important and opening up whole new scenarios.\n",
    "* Even though the whole world sees the promise and the hope of these machine learning AI capabilities changing so many things, the world just doesn't have enough AI developers today."
   ]
  },
  {
   "cell_type": "markdown",
   "metadata": {},
   "source": [
    "## A Primer in Machine Learning\n",
    "<p align=\"center\">\n",
    "    <img src=\"img/capture-1.PNG\" alt=\"traditional-programming\" width=\"400\"/>\n",
    "</p>\n",
    "<p align=\"center\"><i>Image 1. Traditional Programming</i></p>\n",
    "\n",
    "<p align=\"center\">\n",
    "    <img src=\"img/capture-3.PNG\" alt=\"activity-recognition\" width=\"400\"/>\n",
    "</p>\n",
    "<p align=\"center\"><i>Image 2. Activity Recognition using Traditional Programming</i></p>\n",
    "\n",
    "<p align=\"center\">\n",
    "    <img src=\"img/capture-2.PNG\" alt=\"new-programming\" width=\"400\"/>\n",
    "</p>\n",
    "<p align=\"center\"><i>Image 3. New Programming</i></p>\n",
    "\n",
    "* Rules are express in a programming language and data can come from a variety of sources from local variables or the way up to databases\n",
    "* Machine learning is really similar but we only flipping the axes\n",
    "* Neural network is the workhorse of doing this type of pattern recognition"
   ]
  },
  {
   "cell_type": "markdown",
   "metadata": {},
   "source": [
    "## The ‘Hello World’ of neural networks\n",
    "Machine learning is all about a computer learning the patterns that distinguish things. The simplest possible neural network is one that has only one neuron in it, we can see it the code below."
   ]
  },
  {
   "cell_type": "code",
   "execution_count": null,
   "metadata": {},
   "outputs": [],
   "source": [
    "# # In keras, we use Dense to define a layer of connected neurons\n",
    "model = keras.Sequential([keras.layers.Dense(units=1, input_shape=[1])]) \n",
    "model.compile(optimizer='sgd', loss='mean_squared_error')\n",
    "\n",
    "xs = np.array([-1.0, 0.0, 1.0, 2.0, 3.0, 4.0], dtype=float)\n",
    "ys = np.array([-3.0, -1.0, 1.0, 3.0, 5.0, 7.0], dtype-float)\n",
    "\n",
    "# the training takes place in the fit command\n",
    "# epoch = 500, means that it will go through the training loop 500 times\n",
    "model.fit(xs, ys, epochs=500)\n",
    "\n",
    "print(model.predict([10.0]))"
   ]
  },
  {
   "cell_type": "markdown",
   "metadata": {},
   "source": [
    "There are two functions, **loss** and **optimizer**. \n",
    "* Loss function measure how good or how bad its guess was. Loss function is mean squarred error.\n",
    "* Optimizer function figures out the next guess, how good or how badly the guess was done using the data from the loss function. Each guess should be better than the one before. Optimizer is SGD (Stochastic Gradient Descent)\n",
    "\n",
    "In conclusion, the steps to figure out the patterns are:\n",
    "1. Make a guess\n",
    "2. Measure how good or how bad the guesses with the loss function\n",
    "3. Use the optimizer and the data to make another guess and repeat this\n",
    "\n",
    "If the result is far from expectation or what you guess before, there are 2 reasons for it.\n",
    "1. Training data is too small\n",
    "2. When using neural networks, they deal in probability as they try to figure out the answers for everything."
   ]
  },
  {
   "cell_type": "markdown",
   "metadata": {},
   "source": [
    "## From Rules to Data\n",
    "* Traditional paradigm of expressing rules in a coding language may not always work to solve a problem. Computer vision are very difficult to solve with rules-based programming.\n",
    "* We can feed a computer with enough data that we describe / label as what we want it to recognize. Example: fitting numbers to a line."
   ]
  },
  {
   "cell_type": "markdown",
   "metadata": {},
   "source": [
    "---"
   ]
  },
  {
   "cell_type": "markdown",
   "metadata": {},
   "source": []
  },
  {
   "cell_type": "markdown",
   "metadata": {},
   "source": []
  },
  {
   "cell_type": "markdown",
   "metadata": {},
   "source": []
  },
  {
   "cell_type": "markdown",
   "metadata": {},
   "source": []
  },
  {
   "cell_type": "markdown",
   "metadata": {},
   "source": []
  },
  {
   "cell_type": "markdown",
   "metadata": {},
   "source": []
  },
  {
   "cell_type": "markdown",
   "metadata": {},
   "source": []
  },
  {
   "cell_type": "markdown",
   "metadata": {},
   "source": []
  },
  {
   "cell_type": "markdown",
   "metadata": {},
   "source": []
  },
  {
   "cell_type": "markdown",
   "metadata": {},
   "source": []
  }
 ],
 "metadata": {
  "kernelspec": {
   "display_name": "Python 3",
   "language": "python",
   "name": "python3"
  },
  "language_info": {
   "name": "python",
   "version": "3.11.8"
  }
 },
 "nbformat": 4,
 "nbformat_minor": 2
}
